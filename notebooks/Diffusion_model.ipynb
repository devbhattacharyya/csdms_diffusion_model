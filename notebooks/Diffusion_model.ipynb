{
 "cells": [
  {
   "cell_type": "markdown",
   "id": "64c74e2a-498d-44ef-8650-ee515263169d",
   "metadata": {},
   "source": [
    "# A 1D Diffusion Model"
   ]
  },
  {
   "cell_type": "markdown",
   "id": "70314fae-28d2-412f-b634-84f36501dae8",
   "metadata": {},
   "source": [
    "Here we develop a one-dimensional model of diffusion.\n",
    "It assumes a constant diffusiveity.\n",
    "It uses a regular grid.\n",
    "It has a step function for an initial condition.\n",
    "It has fixed boundary condtions."
   ]
  },
  {
   "cell_type": "markdown",
   "id": "26864de0-9baf-4119-8157-387a5005bc84",
   "metadata": {},
   "source": [
    "Here is the diffusion equation:"
   ]
  },
  {
   "cell_type": "markdown",
   "id": "ea8b9e66-45c8-4af9-92c1-d107516eb9b1",
   "metadata": {},
   "source": [
    "$$ C^{t+1}_x = C^t_x + {D \\Delta t \\over \\Delta x^2} (C^t_{x+1} - 2C^t_x + C^t_{x-1}) $$"
   ]
  },
  {
   "cell_type": "markdown",
   "id": "56059332-f946-4443-b58e-acfc86f59391",
   "metadata": {},
   "source": [
    "Here is the discretized version of the diffusion equation we will solve with our model:"
   ]
  },
  {
   "cell_type": "markdown",
   "id": "44aa72ad-aeb5-4d46-9fa3-ae002427253f",
   "metadata": {},
   "source": [
    "$$ \\frac{\\partial C}{\\partial t} = D\\frac{\\partial^2 C}{\\partial x^2} $$"
   ]
  },
  {
   "cell_type": "markdown",
   "id": "2ac9aecb-4e13-4aa5-8e11-c2de20818211",
   "metadata": {},
   "source": [
    "This is the FTCS scheme as described by Slingerland and Kump (2011)"
   ]
  },
  {
   "cell_type": "markdown",
   "id": "8f38c91b-75f8-4023-a5f4-10dc46287558",
   "metadata": {},
   "source": [
    "We'll use two libraries, Numpy (for Arrays) and Maplotlib (for plotting), that aren't a part of the core python distribution."
   ]
  },
  {
   "cell_type": "code",
   "execution_count": null,
   "id": "4f238337-1fdc-43ca-a630-9706ae0c9502",
   "metadata": {},
   "outputs": [],
   "source": [
    "import numpy as np\n",
    "import matplotlib.pyplot as plt"
   ]
  },
  {
   "cell_type": "markdown",
   "id": "b139a95d-6477-4bbe-a7f2-28c92ba52606",
   "metadata": {},
   "source": [
    "Start by setting two fixed model parameters, the diffusivity and the model domain "
   ]
  },
  {
   "cell_type": "code",
   "execution_count": null,
   "id": "d6918980-9717-4ac6-80d4-bc2fffc2ab35",
   "metadata": {},
   "outputs": [],
   "source": [
    "D = 100\n",
    "Lx = 300"
   ]
  },
  {
   "cell_type": "code",
   "execution_count": null,
   "id": "16667588-2201-4da2-affc-913f2d4a007e",
   "metadata": {},
   "outputs": [],
   "source": [
    "dx = 0.5\n",
    "x = np.arange(start=0, stop=Lx,step=dx)\n",
    "nx = len(x)"
   ]
  },
  {
   "cell_type": "markdown",
   "id": "6d152aa3-c219-4591-8859-c118e9e52152",
   "metadata": {},
   "source": [
    "Set the initial conditions for the model. The Cake **C** is a step function with a high value of the left, a low value on the right, and a step at the center of the domain."
   ]
  },
  {
   "cell_type": "code",
   "execution_count": null,
   "id": "a06d6d1f-12e4-41a3-89dc-fd3221f31a01",
   "metadata": {},
   "outputs": [],
   "source": [
    "C = np.zeros_like(x)\n",
    "C_left = 500\n",
    "C_right = 0\n",
    "C[x <= Lx/2] = C_left\n",
    "C[x > Lx/2] = C_right"
   ]
  },
  {
   "cell_type": "markdown",
   "id": "85f76853-11aa-45e0-8c90-6e36af8c4d47",
   "metadata": {},
   "source": [
    "Plot the initial profile."
   ]
  },
  {
   "cell_type": "code",
   "execution_count": null,
   "id": "27590540-0e6e-4adb-be0a-05c9555ae55c",
   "metadata": {},
   "outputs": [],
   "source": [
    "plt.figure()\n",
    "plt.plot(x, C, \"r\")\n",
    "plt.xlabel(\"x\")\n",
    "plt.ylabel(\"C\")\n",
    "plt.title(\"Initial profile\")\n",
    "plt.show()"
   ]
  },
  {
   "cell_type": "markdown",
   "id": "bd8b40c7-d063-48b5-ae24-3198c917a5ff",
   "metadata": {},
   "source": [
    "Set the number of time steps in the model. Calculate a stable time step using a stability criterion."
   ]
  },
  {
   "cell_type": "code",
   "execution_count": null,
   "id": "dcf578a0-fad3-4f3d-911c-f74d1deb8925",
   "metadata": {},
   "outputs": [],
   "source": [
    "nt = 5000\n",
    "dt = 0.5 * dx **2 / D"
   ]
  },
  {
   "cell_type": "markdown",
   "id": "08d53aa5-3da2-4a8d-8da0-7313c88e9458",
   "metadata": {},
   "source": [
    "Loop over the time steps of the model, solving the diffusion equation using the FTCS scheme shown above.\n",
    "Note the use of array operations on the variable **C**. The boundary conditions remain fixed in each time step."
   ]
  },
  {
   "cell_type": "code",
   "execution_count": null,
   "id": "4bf8acc4-8cf7-4345-9416-9f9ed81fc86b",
   "metadata": {},
   "outputs": [],
   "source": [
    "for t in range(0,nt):\n",
    "    C[1:-1] += D * dt / dx ** 2 * (C[:-2] - 2*C[1:-1] + C[2:])"
   ]
  },
  {
   "cell_type": "code",
   "execution_count": null,
   "id": "a521a620-7d9c-468f-8069-b5d91f0445cd",
   "metadata": {},
   "outputs": [],
   "source": [
    "z = list(range(5))"
   ]
  },
  {
   "cell_type": "code",
   "execution_count": null,
   "id": "5126603d-1bad-471c-a967-9bd6ffa5b843",
   "metadata": {},
   "outputs": [],
   "source": [
    "plt.figure()\n",
    "plt.plot(x, C, \"r\")\n",
    "plt.xlabel(\"x\")\n",
    "plt.ylabel(\"C\")\n",
    "plt.title(\"Initial profile\")\n",
    "plt.show()"
   ]
  }
 ],
 "metadata": {
  "kernelspec": {
   "display_name": "Ivy",
   "language": "python",
   "name": "ivy"
  },
  "language_info": {
   "codemirror_mode": {
    "name": "ipython",
    "version": 3
   },
   "file_extension": ".py",
   "mimetype": "text/x-python",
   "name": "python",
   "nbconvert_exporter": "python",
   "pygments_lexer": "ipython3",
   "version": "3.13.3"
  }
 },
 "nbformat": 4,
 "nbformat_minor": 5
}
